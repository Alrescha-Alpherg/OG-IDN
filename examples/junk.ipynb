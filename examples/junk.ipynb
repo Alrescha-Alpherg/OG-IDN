{
 "cells": [
  {
   "cell_type": "code",
   "execution_count": 1,
   "metadata": {},
   "outputs": [],
   "source": [
    "# Import files\n",
    "import os\n",
    "from ogcore import output_plots as op\n",
    "from ogcore.utils import safe_read_pickle"
   ]
  },
  {
   "cell_type": "code",
   "execution_count": 8,
   "metadata": {},
   "outputs": [],
   "source": [
    "base_dir = \"/Users/richardevans/Docs/Economics/OSE/OG-IDN/examples/OG-IDN-Example/OUTPUT_BASELINE\"\n",
    "save_dir = \"/Users/richardevans/Docs/Economics/OSE/OG-IDN/examples/OG-IDN-Example\""
   ]
  },
  {
   "cell_type": "code",
   "execution_count": 12,
   "metadata": {},
   "outputs": [],
   "source": [
    "# Plot debt to GDP time series\n",
    "base_tpi = safe_read_pickle(os.path.join(base_dir, \"TPI\", \"TPI_vars.pkl\"))\n",
    "base_params = safe_read_pickle(os.path.join(base_dir, \"model_params.pkl\"))\n",
    "op.plot_gdp_ratio(\n",
    "    base_tpi, base_params, var_list=[\"D\"], num_years_to_plot=200,\n",
    "    start_year=base_params.start_year,\n",
    "    vertical_line_years=[base_params.start_year + base_params.tG1],\n",
    "    path=os.path.join(\n",
    "        save_dir, \"OG-IDN_base_plots\", \"gdp_ratio_tauc10_etr115\"\n",
    "    )\n",
    ")"
   ]
  },
  {
   "cell_type": "code",
   "execution_count": null,
   "metadata": {},
   "outputs": [],
   "source": []
  }
 ],
 "metadata": {
  "kernelspec": {
   "display_name": "ogidn-dev",
   "language": "python",
   "name": "python3"
  },
  "language_info": {
   "codemirror_mode": {
    "name": "ipython",
    "version": 3
   },
   "file_extension": ".py",
   "mimetype": "text/x-python",
   "name": "python",
   "nbconvert_exporter": "python",
   "pygments_lexer": "ipython3",
   "version": "3.11.9"
  }
 },
 "nbformat": 4,
 "nbformat_minor": 2
}
